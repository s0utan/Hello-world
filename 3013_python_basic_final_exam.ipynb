{
  "nbformat": 4,
  "nbformat_minor": 0,
  "metadata": {
    "celltoolbar": "Edit Metadata",
    "colab": {
      "name": "3013_python_basic_final_exam.ipynb",
      "provenance": [],
      "collapsed_sections": [],
      "history_visible": true,
      "include_colab_link": true
    },
    "kernelspec": {
      "display_name": "Python 3",
      "language": "python",
      "name": "python3"
    },
    "language_info": {
      "codemirror_mode": {
        "name": "ipython",
        "version": 3
      },
      "file_extension": ".py",
      "mimetype": "text/x-python",
      "name": "python",
      "nbconvert_exporter": "python",
      "pygments_lexer": "ipython3",
      "version": "3.6.3"
    },
    "toc": {
      "base_numbering": 1,
      "nav_menu": {},
      "number_sections": true,
      "sideBar": true,
      "skip_h1_title": false,
      "title_cell": "Table of Contents",
      "title_sidebar": "Contents",
      "toc_cell": false,
      "toc_position": {},
      "toc_section_display": true,
      "toc_window_display": false
    }
  },
  "cells": [
    {
      "cell_type": "markdown",
      "metadata": {
        "id": "view-in-github",
        "colab_type": "text"
      },
      "source": [
        "<a href=\"https://colab.research.google.com/github/s0utan/Hello-world/blob/master/3013_python_basic_final_exam.ipynb\" target=\"_parent\"><img src=\"https://colab.research.google.com/assets/colab-badge.svg\" alt=\"Open In Colab\"/></a>"
      ]
    },
    {
      "cell_type": "markdown",
      "metadata": {
        "id": "-XdtRcvpo4Go"
      },
      "source": [
        "# 添削課題"
      ]
    },
    {
      "cell_type": "markdown",
      "metadata": {
        "id": "yn5qAMNjo4Gu"
      },
      "source": [
        "#### 問題"
      ]
    },
    {
      "cell_type": "markdown",
      "metadata": {
        "id": "Nd6tvZ0Do4Gv"
      },
      "source": [
        "- 以下の処理を関数 `Ai_demy` に実装してください。\n",
        "    - 引数 `numbers` で与えられたリストの値1～35の全ての値について\n",
        "        1. `5` で割り切れる場合、「`数値`:Ai」と表示する\n",
        "        1. `7` で割り切れる場合、「`数値`:demy」と表示する\n",
        "        1. `5` と`7` で割り切れる場合、「`数値`:Aidemy」と表示する\n",
        "        1. それ以外の場合は、そのままの数字を表示する\n",
        "\n",
        "- 出力例\n",
        "```\n",
        "1\n",
        "2\n",
        "3\n",
        "4\n",
        "5:Ai\n",
        "6\n",
        "7:demy\n",
        "8\n",
        "9\n",
        "10:Ai\n",
        "    ・\n",
        "    ・\n",
        "    ・\n",
        "35:Aidemy\n",
        "```"
      ]
    },
    {
      "cell_type": "code",
      "source": [
        "#numbersを用意\n",
        "# numbers = []\n",
        "# for number in range(35):\n",
        "#   number+=1\n",
        "#   numbers.append(number)\n",
        "numbers = list(range(1,36))\n",
        "\n",
        "# def AI_demyを用意\n",
        "def Ai_demy(numbers):\n",
        "  for number in numbers:\n",
        "    if number%5==0 and number%7==0:\n",
        "      print(str(number)+\":Aidemy\")\n",
        "    elif number%5==0:\n",
        "      print(str(number)+\":Ai\")\n",
        "    elif number%7==0:\n",
        "      print(str(number)+\":demy\") \n",
        "    else:\n",
        "      print(number)\n",
        "Ai_demy(numbers)\n",
        "\n",
        "    \n"
      ],
      "metadata": {
        "id": "3zj-GTWCx21s",
        "outputId": "16e2c700-7362-4163-b55e-86799610be31",
        "colab": {
          "base_uri": "https://localhost:8080/"
        }
      },
      "execution_count": 26,
      "outputs": [
        {
          "output_type": "stream",
          "name": "stdout",
          "text": [
            "1\n",
            "2\n",
            "3\n",
            "4\n",
            "5:Ai\n",
            "6\n",
            "7:demy\n",
            "8\n",
            "9\n",
            "10:Ai\n",
            "11\n",
            "12\n",
            "13\n",
            "14:demy\n",
            "15:Ai\n",
            "16\n",
            "17\n",
            "18\n",
            "19\n",
            "20:Ai\n",
            "21:demy\n",
            "22\n",
            "23\n",
            "24\n",
            "25:Ai\n",
            "26\n",
            "27\n",
            "28:demy\n",
            "29\n",
            "30:Ai\n",
            "31\n",
            "32\n",
            "33\n",
            "34\n",
            "35:Aidemy\n"
          ]
        }
      ]
    },
    {
      "cell_type": "code",
      "source": [
        ""
      ],
      "metadata": {
        "id": "vH922wnhz_LB"
      },
      "execution_count": null,
      "outputs": []
    },
    {
      "cell_type": "markdown",
      "metadata": {
        "id": "Bird3ePoo4Gy"
      },
      "source": [
        "#### ヒント"
      ]
    },
    {
      "cell_type": "markdown",
      "metadata": {
        "id": "QDJBfL1ko4Gz"
      },
      "source": [
        "- for文を利用して `numbers` に格納されている値全てに対して、処理を行いましょう。\n",
        "- if文を利用して出力する文字を制御しましょう。"
      ]
    },
    {
      "cell_type": "code",
      "metadata": {
        "id": "Zs64egZCo4G0",
        "outputId": "b30153a2-20d1-48d9-902c-866d2c778e5f",
        "colab": {
          "base_uri": "https://localhost:8080/",
          "height": 135
        }
      },
      "source": [
        "# 関数Ai_demyの中を作成してください\n",
        "def Ai_demy(numbers):\n",
        "    # ここに処理を記述してください\n",
        "    \n",
        "\n",
        "    \n",
        "# データの定義\n",
        "numbers = list(range(1,36))\n",
        "# 関数の実行\n",
        "Ai_demy(numbers)"
      ],
      "execution_count": 24,
      "outputs": [
        {
          "output_type": "error",
          "ename": "IndentationError",
          "evalue": "ignored",
          "traceback": [
            "\u001b[0;36m  File \u001b[0;32m\"<ipython-input-24-1e06298b362a>\"\u001b[0;36m, line \u001b[0;32m8\u001b[0m\n\u001b[0;31m    numbers = list(range(1,36))\u001b[0m\n\u001b[0m          ^\u001b[0m\n\u001b[0;31mIndentationError\u001b[0m\u001b[0;31m:\u001b[0m expected an indented block\n"
          ]
        }
      ]
    },
    {
      "cell_type": "markdown",
      "metadata": {
        "id": "VuQg2b1Go4G8"
      },
      "source": [
        "---"
      ]
    },
    {
      "cell_type": "markdown",
      "metadata": {
        "id": "AGE5QX4HYnnV",
        "type": "final_exam"
      },
      "source": [
        "# 応用添削課題"
      ]
    },
    {
      "cell_type": "markdown",
      "metadata": {
        "id": "d_DxlOzPYnnW",
        "type": "description"
      },
      "source": [
        "**※以下の問題は、任意提出の応用添削課題です。(提出されなくても、講座の修了には影響ありません)**\n",
        "\n",
        "二分探索法（バイナリーサーチ）を用いて探索を行うアルゴリズムのプログラムを作成してもらいます。アルゴリズムとは、問題を解くための手順のことです。探すデータが大きくなるほどライナーサーチ（初めから順番に探す方法）と比べ、探索にかかる時間が圧倒的に短く済むアルゴリズムとなっています。\n",
        "\n",
        "バイナリーサーチのアルゴリズムは以下のようになります。\n",
        "1. データの中央値を取ります。\n",
        "1. 取り出したデータが目的のものか比較し、一致する場合終了です。\n",
        "1. 中央値が目的のデータより小さい場合は、探索範囲の最小値を中央値に1足した値にし、大きい場合は探索範囲の最大値を中央値から1引いた値にします。"
      ]
    },
    {
      "cell_type": "markdown",
      "metadata": {
        "id": "JHPNm0TWYnnY"
      },
      "source": [
        "#### 問題"
      ]
    },
    {
      "cell_type": "markdown",
      "metadata": {
        "id": "nVycoUjmYnnZ",
        "type": "question"
      },
      "source": [
        "- 関数`binary_search`の中に、二分探索法を用いてリストの`numbers`から`target_number`を探し出すプログラムを作成してください。\n",
        "- `numbers`は整数型で重複を含まず昇順に並んでおり、また`target_number`が必ず含まれる配列とします。\n",
        "- 関数を実行した時に「`11は11番目にあります`」と出力させるようにしてください。\n",
        "- 変数`target_number`を変更し自分のプログラムが正しく動いているか確認してください。"
      ]
    },
    {
      "cell_type": "markdown",
      "metadata": {
        "id": "o7HJ5YmTYnna"
      },
      "source": [
        "#### ヒント"
      ]
    },
    {
      "cell_type": "markdown",
      "metadata": {
        "id": "svgIYRB7Ynna",
        "type": "hint"
      },
      "source": [
        "- 初めに求める中央値はリストの`index`である点に注意しましょう。\n",
        "- 中央値を求めるとき「`/`」（余りが出る）ではなく、「`//`」（切り捨て除算）を用いると良いです。"
      ]
    },
    {
      "cell_type": "code",
      "metadata": {
        "id": "VWSi3KZlYnnb",
        "type": "index"
      },
      "source": [
        "# 関数binary_searchの中を作成してください\n",
        "def binary_search(numbers, target_number):\n",
        "  low=0\n",
        "\n",
        "# 探索するデータ\n",
        "numbers = [1, 2, 3, 4, 5, 6, 7, 8, 9, 10, 11, 12, 13]\n",
        "# 探索したい値\n",
        "target_number = 11\n",
        "# バイナリーサーチの実行\n",
        "binary_search(numbers, target_number)"
      ],
      "execution_count": null,
      "outputs": []
    },
    {
      "cell_type": "markdown",
      "metadata": {
        "id": "kqyXYILOSZY8"
      },
      "source": [
        "### 講座を終えてのアンケート"
      ]
    },
    {
      "cell_type": "markdown",
      "metadata": {
        "id": "kX1v3vcrSZY9",
        "type": "commentary"
      },
      "source": [
        "問題の提出は以下のアドレスから提出いただきますようお願いします。<br>\n",
        "\n",
        "https://form.kintoneapp.com/public/form/show/65e09b681fdfc132f8158abb012f1a89bfa959da6081a413e6cf90f6f13bfe25<br><br>\n",
        "以下のアドレスからアンケートにご協力頂きたく存じます。<br>\n",
        "ご回答のほど、よろしくお願いいたします。\n",
        "\n",
        "https://goo.gl/forms/WHjJQYeodIndRvyz2"
      ]
    }
  ]
}